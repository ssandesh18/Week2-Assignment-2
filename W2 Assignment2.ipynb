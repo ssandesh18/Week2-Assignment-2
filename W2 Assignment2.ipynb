{
 "cells": [
  {
   "cell_type": "markdown",
   "id": "c328b1c0-a88a-40cc-9821-d72afd92f2ff",
   "metadata": {},
   "source": [
    "Q1. How do you comment code in Python? What are the different types of comments?"
   ]
  },
  {
   "cell_type": "markdown",
   "id": "3b0212c4-c129-42ad-8a33-9345b238deab",
   "metadata": {},
   "source": [
    "Single-Line Comments\n",
    "Python single-line comment starts with the hashtag symbol (#) with no white spaces and lasts till the end of the line.\n",
    "Eg. # Single line comment\n",
    "\n",
    "Multi-Line Comments\n",
    "We can multiple hashtags (#) to write multiline comments in Python. Each and every line will be considered as a single-line comment.\n",
    "Eg. # first line comment\n",
    "# second line comment\n",
    "String Literals\n",
    "Python ignores the string literals that are not assigned to a variable so we can use these string literals as Python Comments.\n",
    "Eg. ‘Python ignores this’\n",
    "Docstring\n",
    "Python docstring is the string literals with triple quotes that are appeared right after the function.\n",
    "def multiply(a, b):\n",
    "    \"\"\"Multiplies the value of a and b\"\"\"\n",
    "    return a*b\n",
    "\n",
    "\n",
    "Types of Comments in Python\n",
    "There are three types of comments in Python:\n",
    "Single line Comments\n",
    "Multiline Comments\n",
    "String Literals\n",
    "Docstring Comments\n"
   ]
  },
  {
   "cell_type": "markdown",
   "id": "13622040-982c-4067-aef1-e820c3fcceb3",
   "metadata": {},
   "source": [
    "Q2. What are variables in Python? How do you declare and assign values to variables?\n"
   ]
  },
  {
   "cell_type": "markdown",
   "id": "7d44195f-9433-408f-a031-dbe23fa7198a",
   "metadata": {},
   "source": [
    "A variable is a string of characters and numbers associated with a piece of information. The assignment operator, denoted by the “=” symbol, is the operator that is used to assign values to variables in Python. The line x=1 takes the known value, 1, and assigns that value to the variable with name “x”. After executing this line, this number will be stored into this variable. Until the value is changed or the variable deleted, the character x behaves like the value 1. Eg. a=1 then a will become 1"
   ]
  },
  {
   "cell_type": "markdown",
   "id": "547bad52-d1ba-454e-b6db-f94bed160fbe",
   "metadata": {},
   "source": [
    "Q3. How do you convert one data type to another in Python?\n"
   ]
  },
  {
   "cell_type": "markdown",
   "id": "d091fdac-af42-4213-906a-1212143c2f40",
   "metadata": {},
   "source": [
    "Type Conversion\n",
    "In Python, the process of converting a data type value, be it an integer, string, float, etc, into another data type is known as type conversion. This type-conversion is of two types, which are: \n",
    "1.Implicit Type Conversion \n",
    "2.Explicit Type Conversion\n",
    "\n",
    "Implicit Type Conversion \n",
    "Implicit type conversion is where Python takes the burden of conversion from you and automatically converts one data type into another data type. This process doesn’t require any kind of involvement from you.\n",
    "\n",
    "Explicit Type Conversion \n",
    "In Explicit Type Conversion, Python allows you to convert an object’s data type to your required data type by using predefined functions such as float(), int(), str(), etc. These predefined functions help you to perform Explicit Type conversion and do various operations on different objects.  \n",
    "This type of type conversion is also known as typecasting as the programmer casts (changes) the object’s data type. \n",
    "Syntax: <required_datatype>(expression)\n"
   ]
  },
  {
   "cell_type": "markdown",
   "id": "610f83fc-a6e5-4fa3-9fe1-0cc294f43810",
   "metadata": {},
   "source": [
    "Q4. How do you write and execute a Python script from the command line?\n"
   ]
  },
  {
   "cell_type": "markdown",
   "id": "3ffb6727-0ff9-458d-b15e-2441c2073d7e",
   "metadata": {},
   "source": [
    "The most sought-after way to write a Python program is using a plain text editor. The code written in the Python interactive session is lost once it is closed, though it allows the user to write many lines of code. On Windows, the files use the .py extension. \n",
    "print('Hello World!')\n",
    "\n",
    "Using the python command\n",
    "The most basic and easy way to run a Python script is by using the python command. You need to open a command line and type the word python followed by the path to your script file like this:\n",
    "python first_script.py\n",
    "Hello World!\n",
    "Then you hit the ENTER button from the keyboard, and that's it. You can see the phrase Hello World! on the screen.\n",
    "\n"
   ]
  },
  {
   "cell_type": "markdown",
   "id": "b184db02-69e6-4b97-a345-869b365f99bf",
   "metadata": {},
   "source": [
    "5. Given a list my_list = [1, 2, 3, 4, 5], write the code to slice the list and obtain the sub-list [2, 3]"
   ]
  },
  {
   "cell_type": "code",
   "execution_count": 1,
   "id": "2dd50262-21bd-44ae-81ef-a7f86de04504",
   "metadata": {},
   "outputs": [
    {
     "name": "stdout",
     "output_type": "stream",
     "text": [
      "[2, 3]\n"
     ]
    }
   ],
   "source": [
    "my_list = [1, 2, 3, 4, 5]\n",
    "sub_list = print(my_list[1:3])"
   ]
  },
  {
   "cell_type": "markdown",
   "id": "4edd8e01-9da0-49fb-a889-13f663ffbf2f",
   "metadata": {},
   "source": [
    "6. What is a complex number in mathematics, and how is it represented in Python?\n",
    "\n",
    "Complex numbers are the number which has a square of number in -ve value or a number whose square root is -ve value\n",
    " Eg. i*2 = -1 or  i= Sqrt(-1)\n",
    "In Python complex number is represented as x+yj   where x and y is real number\n",
    "Eg. 2+3j  \n"
   ]
  },
  {
   "cell_type": "markdown",
   "id": "a23eaffa-f481-46da-96c2-3c9f5bbf450a",
   "metadata": {},
   "source": [
    "Q7. What is the correct way to declare a variable named age and assign the value 25 to it?\n",
    "\n",
    "age = 25\n",
    "It is the correct way to declare a variable named age and assign the value 25 to it.\n"
   ]
  },
  {
   "cell_type": "markdown",
   "id": "6e308585-65a5-4719-af18-349e099d9000",
   "metadata": {},
   "source": [
    "Q8. Declare a variable named price and assign the value 9.99 to it. What data type does this variable belong to?\n",
    "\n",
    "price = 9.99\n",
    "Data type of the price variable is float.\n"
   ]
  },
  {
   "cell_type": "markdown",
   "id": "9c9116bf-c9a7-40e7-abe6-340b6a672039",
   "metadata": {},
   "source": [
    "Q9. Create a variable named name and assign your full name to it as a string. How would you print the value of this variable\n",
    "\n"
   ]
  },
  {
   "cell_type": "code",
   "execution_count": 2,
   "id": "d407fe4d-a479-4081-8060-974cd12e8f57",
   "metadata": {},
   "outputs": [
    {
     "name": "stdout",
     "output_type": "stream",
     "text": [
      "Sandesh Shankar Khandagale\n"
     ]
    }
   ],
   "source": [
    "name = \"Sandesh Shankar Khandagale\"\n",
    "print(name)"
   ]
  },
  {
   "cell_type": "markdown",
   "id": "5a06397b-3b40-4424-932e-d7d8609e2dd0",
   "metadata": {},
   "source": [
    "Q10. Given the string \"Hello, World!\", extract the substring \"World\""
   ]
  },
  {
   "cell_type": "code",
   "execution_count": 3,
   "id": "380098cf-6094-4f93-9f21-a156b5fb9437",
   "metadata": {},
   "outputs": [
    {
     "name": "stdout",
     "output_type": "stream",
     "text": [
      "World\n"
     ]
    }
   ],
   "source": [
    "s = \"Hello, World!\"\n",
    "print(s[7:12])\n"
   ]
  },
  {
   "cell_type": "markdown",
   "id": "834b5ee0-fbbc-4235-88d4-84446342d07d",
   "metadata": {},
   "source": [
    "Q11. Create a variable named \"is_student\" and assign it a boolean value indicating whether you are currently a student or not."
   ]
  },
  {
   "cell_type": "code",
   "execution_count": 4,
   "id": "10cc5710-e9eb-4ecd-bf19-85cd4c3f5187",
   "metadata": {},
   "outputs": [
    {
     "name": "stdout",
     "output_type": "stream",
     "text": [
      "True\n"
     ]
    }
   ],
   "source": [
    "is_student = True\n",
    "print(is_student)\n"
   ]
  },
  {
   "cell_type": "code",
   "execution_count": null,
   "id": "fd4dbe25-0069-4666-b480-0cdaba100c1f",
   "metadata": {},
   "outputs": [],
   "source": []
  }
 ],
 "metadata": {
  "kernelspec": {
   "display_name": "Python 3 (ipykernel)",
   "language": "python",
   "name": "python3"
  },
  "language_info": {
   "codemirror_mode": {
    "name": "ipython",
    "version": 3
   },
   "file_extension": ".py",
   "mimetype": "text/x-python",
   "name": "python",
   "nbconvert_exporter": "python",
   "pygments_lexer": "ipython3",
   "version": "3.10.8"
  }
 },
 "nbformat": 4,
 "nbformat_minor": 5
}
